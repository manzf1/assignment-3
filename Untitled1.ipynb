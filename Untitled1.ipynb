{
 "cells": [
  {
   "cell_type": "markdown",
   "id": "a089aa8b",
   "metadata": {},
   "source": [
    "# Investment Strategy\n",
    "\n",
    "This worksheet will assist in financial decision\n",
    "\n",
    "\n",
    "- future value\n",
    "- present value\n",
    "- interest rate\n",
    "- principal\n"
   ]
  },
  {
   "cell_type": "code",
   "execution_count": 1,
   "id": "747b5c62",
   "metadata": {},
   "outputs": [
    {
     "name": "stdout",
     "output_type": "stream",
     "text": [
      "The output is 162.8894626777442\n"
     ]
    }
   ],
   "source": [
    "interest_rate = .05\n",
    "years = 10\n",
    "principal = 100\n",
    "output = principal*(1+interest_rate)**years\n",
    "print(f'The output is {output}')"
   ]
  },
  {
   "cell_type": "markdown",
   "id": "8a8566fb",
   "metadata": {},
   "source": [
    "**This will tell the main target goal of a person and how many years he is going to invest it**"
   ]
  },
  {
   "cell_type": "code",
   "execution_count": 2,
   "id": "48c4c4b7",
   "metadata": {},
   "outputs": [
    {
     "name": "stdout",
     "output_type": "stream",
     "text": [
      "What is your target goal?1000\n",
      "How many years will you invest?8\n",
      "What will the interest rate be?.11\n",
      "The present value is  433.92649629802077\n"
     ]
    }
   ],
   "source": [
    "fv = float(input(\"What is your target goal?\"))\n",
    "num_years = float(input(\"How many years will you invest?\"))\n",
    "interest_rate = float(input(\"What will the interest rate be?\"))\n",
    "\n",
    "present_value = fv/(1+interest_rate)**num_years\n",
    "print(\"The present value is \", present_value)"
   ]
  },
  {
   "cell_type": "code",
   "execution_count": null,
   "id": "d83ef6c2",
   "metadata": {},
   "outputs": [],
   "source": []
  },
  {
   "cell_type": "code",
   "execution_count": null,
   "id": "5d0116b3",
   "metadata": {},
   "outputs": [],
   "source": []
  }
 ],
 "metadata": {
  "kernelspec": {
   "display_name": "Python 3",
   "language": "python",
   "name": "python3"
  },
  "language_info": {
   "codemirror_mode": {
    "name": "ipython",
    "version": 3
   },
   "file_extension": ".py",
   "mimetype": "text/x-python",
   "name": "python",
   "nbconvert_exporter": "python",
   "pygments_lexer": "ipython3",
   "version": "3.8.8"
  }
 },
 "nbformat": 4,
 "nbformat_minor": 5
}
